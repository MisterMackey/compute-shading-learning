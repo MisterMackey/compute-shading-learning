{
 "cells": [
  {
   "cell_type": "code",
   "execution_count": 1,
   "id": "3fcb0b23-24e5-4e4b-9cbb-dda30f2309ab",
   "metadata": {},
   "outputs": [],
   "source": [
    "from pyspark.sql import SparkSession"
   ]
  },
  {
   "cell_type": "code",
   "execution_count": 2,
   "id": "a03e59f4-461c-4948-af17-1723e33aa397",
   "metadata": {},
   "outputs": [
    {
     "name": "stderr",
     "output_type": "stream",
     "text": [
      "Setting default log level to \"WARN\".\n",
      "To adjust logging level use sc.setLogLevel(newLevel). For SparkR, use setLogLevel(newLevel).\n",
      "23/10/09 09:44:41 WARN NativeCodeLoader: Unable to load native-hadoop library for your platform... using builtin-java classes where applicable\n",
      "23/10/09 09:44:41 WARN Utils: Service 'SparkUI' could not bind on port 4040. Attempting port 4041.\n",
      "23/10/09 09:44:41 WARN Utils: Service 'SparkUI' could not bind on port 4041. Attempting port 4042.\n"
     ]
    }
   ],
   "source": [
    "spark = SparkSession.Builder().appName(\"Analysis\").master(\"local[12]\").getOrCreate()"
   ]
  },
  {
   "cell_type": "code",
   "execution_count": 3,
   "id": "adfb2338-7dcd-430a-be75-b3367227e275",
   "metadata": {},
   "outputs": [
    {
     "name": "stdout",
     "output_type": "stream",
     "text": [
      "+--------------------+--------+------------------+---------------+--------------------+----+-------------------+------------+--------------+--------------------+\n",
      "|                  Id|Notional|     Interest Rate|Reset Frequency|          Start Date|Term| Remaining Notional|Payment Type|Risk Indicator|     Next Reset Date|\n",
      "+--------------------+--------+------------------+---------------+--------------------+----+-------------------+------------+--------------+--------------------+\n",
      "|0761b4f3-7a45-4d0...|  441950|1.3723296724041503|             10|2004-02-28 09:10:...|  25| 107541.16666666663|      Linear|             0|2029-02-21 09:10:...|\n",
      "|7220a011-cdc8-48e...|  216599| 3.601022009185459|             25|2001-05-16 09:10:...|  30|           216599.0|      Bullet|             2|2031-05-09 09:10:...|\n",
      "|8a84ea3f-c05b-482...|  680797| 2.360662518868855|             15|1999-08-13 09:10:...|  20|-151917.56489184173|     Annuity|             1|2021-08-07 09:10:...|\n",
      "|74347abc-83cf-430...|  684201|2.9795910389053146|             25|2015-04-25 09:10:...|  25|           684201.0|      Bullet|             0|2040-04-18 09:10:...|\n",
      "|4127ff1c-4fb5-4a2...|  395703|2.7344357923510154|             25|2010-06-10 09:10:...|  30|         229727.575|      Linear|             1|2040-06-02 09:10:...|\n",
      "|417d6c28-6bed-4f5...|  587225|2.6022026534718146|             20|2022-12-03 09:10:...|  20|  585357.3559173055|     Annuity|             0|2042-11-28 09:10:...|\n",
      "|3013be8c-84fd-490...|  750967|2.3794822939303626|             15|2014-12-12 09:10:...|  20|  489597.6879043455|     Annuity|             0|2034-12-07 09:10:...|\n",
      "|12f16b6d-d190-420...|  595752| 3.334168667822094|             25|2001-05-26 09:10:...|  30|  228506.6430181039|     Annuity|             0|2031-05-19 09:10:...|\n",
      "|8efd32a1-3e8a-416...|  710111| 4.274192341835321|              7|2016-08-13 09:10:...|  20|  482283.7208333333|      Linear|             4|2023-08-12 09:10:...|\n",
      "|02c22ff7-06a0-46b...|  716506|1.7509750784176208|             15|2004-03-19 09:10:...|  20|           716506.0|      Bullet|             0|2028-03-13 09:10:...|\n",
      "|3cc9c083-76e9-4d8...|  688260|0.6092012886989514|              7|2016-04-09 09:10:...|  30|  544176.9447002291|     Annuity|             0|2023-04-08 09:10:...|\n",
      "|4fe1837e-8816-444...|  581082| 3.012167458690968|             25|2004-04-06 09:10:...|  30|           581082.0|      Bullet|             0|2036-03-29 09:10:...|\n",
      "|8bc310bf-3796-480...|  213512|2.1259857053956877|             20|2018-10-21 09:10:...|  30|   190878.904004496|     Annuity|             0|2038-10-16 09:10:...|\n",
      "|013088e4-e8cc-41e...|  321634|2.2288028575307663|             20|2021-07-12 09:10:...|  25| 306968.03655998304|     Annuity|             0|2041-07-07 09:10:...|\n",
      "|9f13af85-5781-4b8...|  692512| 1.206235743227507|              7|2022-04-16 09:10:...|  25|          671736.64|      Linear|             0|2029-04-14 09:10:...|\n",
      "|54b8b359-4433-4fc...|  442038| 1.129778133172695|             10|2020-08-03 09:10:...|  20|         388625.075|      Linear|             0|2030-08-01 09:10:...|\n",
      "|3cfb3058-5fb1-432...|  426820| 3.478485374578036|             20|2008-08-30 09:10:...|  20| 119153.91666666663|      Linear|             2|2028-08-25 09:10:...|\n",
      "|7590b83d-79e1-428...|  590270|3.2880748236670696|             25|2011-09-29 09:10:...|  25|  381148.2827509561|     Annuity|             0|2036-09-22 09:10:...|\n",
      "|0f018ebf-486b-46c...|  106649| 1.797120769135445|             10|2019-03-23 09:10:...|  30|           106649.0|      Bullet|             0|2029-03-20 09:10:...|\n",
      "|8e89be09-d77e-490...|  498246|1.1649434450136718|             10|2002-10-19 09:10:...|  20|-6991.5505093577085|     Annuity|             0|2022-10-14 09:10:...|\n",
      "+--------------------+--------+------------------+---------------+--------------------+----+-------------------+------------+--------------+--------------------+\n",
      "only showing top 20 rows\n",
      "\n"
     ]
    }
   ],
   "source": [
    "df = spark.read.parquet(\"../test_data.parquet\")\n",
    "df.show()"
   ]
  },
  {
   "cell_type": "code",
   "execution_count": 4,
   "id": "57889ad1-22f4-48cb-9a51-fefacca4bb6d",
   "metadata": {},
   "outputs": [],
   "source": [
    "import matplotlib.pyplot as plt\n",
    "import numpy as np\n",
    "import pandas as pd\n",
    "\n",
    "import matplotlib as mpl\n",
    "from pyspark.sql import functions as fn"
   ]
  },
  {
   "cell_type": "code",
   "execution_count": 5,
   "id": "f57f54ab-cf74-495b-a7a6-b59363b47751",
   "metadata": {},
   "outputs": [
    {
     "name": "stdout",
     "output_type": "stream",
     "text": [
      "+---------------+------------------+----------------------+\n",
      "|Reset Frequency|avg(Interest Rate)|count(Reset Frequency)|\n",
      "+---------------+------------------+----------------------+\n",
      "|              5|1.2112569582144075|                 72116|\n",
      "|              7|1.3152152386120852|                 38742|\n",
      "|              9|1.6102779459008556|                 48757|\n",
      "|             10|1.7108326143245447|                100054|\n",
      "|             15| 2.213922880837765|                204084|\n",
      "|             20|2.7122564525140604|                282771|\n",
      "|             25|3.1126591611424015|                211816|\n",
      "|             30|3.4119085077663054|                 41660|\n",
      "+---------------+------------------+----------------------+\n",
      "\n"
     ]
    },
    {
     "data": {
      "image/png": "[encoded data removed]",
      "text/plain": [
       "<Figure size 640x480 with 1 Axes>"
      ]
     },
     "metadata": {},
     "output_type": "display_data"
    }
   ],
   "source": [
    "fig, ax = plt.subplots()\n",
    "rateAvg = df.groupBy('Reset Frequency').agg(fn.mean('Interest Rate'), fn.count('Reset Frequency')).orderBy('Reset Frequency')\n",
    "\n",
    "types = [x['Reset Frequency'] for x in rateAvg.select('Reset Frequency').collect()]\n",
    "rates = [x['avg(Interest Rate)'] for x in rateAvg.select(\"avg(Interest Rate)\").collect()]\n",
    "\n",
    "ax.plot(types, rates)\n",
    "rateAvg.show()"
   ]
  },
  {
   "cell_type": "code",
   "execution_count": 6,
   "id": "d20acc03-6155-4845-b4cd-c396c9c8ceb1",
   "metadata": {},
   "outputs": [
    {
     "name": "stdout",
     "output_type": "stream",
     "text": [
      "+--------------+------------------+---------------------+\n",
      "|Risk Indicator|avg(Interest Rate)|count(Risk Indicator)|\n",
      "+--------------+------------------+---------------------+\n",
      "|             0| 2.196030915894399|               799295|\n",
      "|             1| 2.495329597739603|               100503|\n",
      "|             2|3.2976366381512467|                50153|\n",
      "|             3| 4.088981333406422|                30081|\n",
      "|             4|5.6974264997369355|                19968|\n",
      "+--------------+------------------+---------------------+\n",
      "\n"
     ]
    },
    {
     "data": {
      "image/png": "[encoded data removed]",
      "text/plain": [
       "<Figure size 640x480 with 1 Axes>"
      ]
     },
     "metadata": {},
     "output_type": "display_data"
    }
   ],
   "source": [
    "fig, ax = plt.subplots()\n",
    "riskAvg = df.groupBy('Risk Indicator').agg(fn.mean('Interest Rate'), fn.count('Risk Indicator')).orderBy('Risk Indicator')\n",
    "\n",
    "types = [x['Risk Indicator'] for x in riskAvg.select('Risk Indicator').collect()]\n",
    "rates = [x['avg(Interest Rate)'] for x in riskAvg.select(\"avg(Interest Rate)\").collect()]\n",
    "\n",
    "ax.plot(types, rates)\n",
    "riskAvg.show()"
   ]
  },
  {
   "cell_type": "code",
   "execution_count": 7,
   "id": "9bde911f",
   "metadata": {},
   "outputs": [
    {
     "name": "stdout",
     "output_type": "stream",
     "text": [
      "+--------------------+--------------------+----+\n",
      "|          Start Date|     Next Reset Date|Term|\n",
      "+--------------------+--------------------+----+\n",
      "|2016-08-13 09:10:...|2023-08-12 09:10:...|  20|\n",
      "|2016-04-09 09:10:...|2023-04-08 09:10:...|  30|\n",
      "|2022-04-16 09:10:...|2029-04-14 09:10:...|  25|\n",
      "|2020-01-06 09:10:...|2027-01-04 09:10:...|  25|\n",
      "|2021-11-15 09:10:...|2028-11-13 09:10:...|  25|\n",
      "|2019-01-28 09:10:...|2026-01-26 09:10:...|  20|\n",
      "|2020-11-12 09:10:...|2027-11-11 09:10:...|  25|\n",
      "|2019-03-20 09:10:...|2026-03-18 09:10:...|  25|\n",
      "|2018-08-26 09:10:...|2025-08-24 09:10:...|  20|\n",
      "|2020-08-29 09:10:...|2027-08-28 09:10:...|  20|\n",
      "|2017-12-14 09:10:...|2024-12-12 09:10:...|  20|\n",
      "|2021-11-02 09:10:...|2028-10-31 09:10:...|  30|\n",
      "|2019-11-02 09:10:...|2026-10-31 09:10:...|  20|\n",
      "|2016-12-09 09:10:...|2023-12-08 09:10:...|  20|\n",
      "|2021-07-18 09:10:...|2028-07-16 09:10:...|  20|\n",
      "|2022-06-05 09:10:...|2029-06-03 09:10:...|  20|\n",
      "|2022-02-06 09:10:...|2029-02-04 09:10:...|  25|\n",
      "|2017-02-19 09:10:...|2024-02-18 09:10:...|  25|\n",
      "|2016-02-11 09:10:...|2023-02-09 09:10:...|  25|\n",
      "|2020-04-29 09:10:...|2027-04-28 09:10:...|  20|\n",
      "+--------------------+--------------------+----+\n",
      "only showing top 20 rows\n",
      "\n"
     ]
    }
   ],
   "source": [
    "freq = df.filter(df['Reset Frequency'] == 7).select([\"Start Date\", \"Next Reset Date\", \"Term\"])\n",
    "freq.show()"
   ]
  },
  {
   "cell_type": "code",
   "execution_count": 11,
   "id": "5bf52a50",
   "metadata": {},
   "outputs": [
    {
     "name": "stdout",
     "output_type": "stream",
     "text": [
      "37993\n"
     ]
    },
    {
     "ename": "Exception",
     "evalue": "bruh moment",
     "output_type": "error",
     "traceback": [
      "\u001b[0;31m---------------------------------------------------------------------------\u001b[0m",
      "\u001b[0;31mException\u001b[0m                                 Traceback (most recent call last)",
      "Cell \u001b[0;32mIn[11], line 4\u001b[0m\n\u001b[1;32m      2\u001b[0m \u001b[38;5;28mprint\u001b[39m(notionalCheck)\n\u001b[1;32m      3\u001b[0m \u001b[38;5;28;01mif\u001b[39;00m notionalCheck \u001b[38;5;241m>\u001b[39m \u001b[38;5;241m0\u001b[39m:\n\u001b[0;32m----> 4\u001b[0m         \u001b[38;5;28;01mraise\u001b[39;00m \u001b[38;5;167;01mException\u001b[39;00m(\u001b[38;5;124m\"\u001b[39m\u001b[38;5;124mbruh moment\u001b[39m\u001b[38;5;124m\"\u001b[39m)\n",
      "\u001b[0;31mException\u001b[0m: bruh moment"
     ]
    }
   ],
   "source": [
    "notionalCheck = df.filter(df['Remaining Notional'] <= 0).count()\n",
    "print(notionalCheck)\n",
    "if notionalCheck > 0:\n",
    "        raise Exception(\"bruh moment\")"
   ]
  },
  {
   "cell_type": "code",
   "execution_count": 10,
   "id": "a1d1c29a",
   "metadata": {},
   "outputs": [
    {
     "name": "stderr",
     "output_type": "stream",
     "text": [
      "[Stage 48:===================================================>    (11 + 1) / 12]\r"
     ]
    },
    {
     "name": "stdout",
     "output_type": "stream",
     "text": [
      "1000000\n"
     ]
    },
    {
     "name": "stderr",
     "output_type": "stream",
     "text": [
      "                                                                                \r"
     ]
    }
   ],
   "source": [
    "duplicatesCheck = df.dropDuplicates(['Id'])\n",
    "print(duplicatesCheck.count())\n",
    "if duplicatesCheck.count() != df.count():\n",
    "    raise Exception(\"bruh moment\")"
   ]
  },
  {
   "cell_type": "code",
   "execution_count": 13,
   "id": "59cdf740-fc20-4872-86c4-f95565d74b88",
   "metadata": {},
   "outputs": [
    {
     "name": "stdout",
     "output_type": "stream",
     "text": [
      "+--------------------+--------+------------------+---------------+--------------------+----+-------------------+------------+--------------+--------------------+\n",
      "|                  Id|Notional|     Interest Rate|Reset Frequency|          Start Date|Term| Remaining Notional|Payment Type|Risk Indicator|     Next Reset Date|\n",
      "+--------------------+--------+------------------+---------------+--------------------+----+-------------------+------------+--------------+--------------------+\n",
      "|8a84ea3f-c05b-482...|  680797| 2.360662518868855|             15|1999-08-13 09:10:...|  20|-151917.56489184173|     Annuity|             1|2021-08-07 09:10:...|\n",
      "|8e89be09-d77e-490...|  498246|1.1649434450136718|             10|2002-10-19 09:10:...|  20|-6991.5505093577085|     Annuity|             0|2022-10-14 09:10:...|\n",
      "|3dc2c92f-d487-45a...|  311366|0.7307157415260137|              5|2001-05-16 09:10:...|  20| -28059.18883777765|     Annuity|             0|2026-05-10 09:10:...|\n",
      "|e762d98e-8500-477...|  568616|2.4543734657012757|             15|2002-02-04 09:10:...|  20| -26061.56666666665|      Linear|             0|2022-01-30 09:10:...|\n",
      "|cef691a4-ba64-4e3...|  736858|2.3194477176315527|             15|2002-01-17 09:10:...|  20| -36842.90000000002|      Linear|             1|2026-01-11 09:10:...|\n",
      "|77586cef-3635-437...|  131837|0.9425297943986165|              5|2000-09-10 09:10:...|  20|-15380.983333333337|      Linear|             0|2025-09-04 09:10:...|\n",
      "|6545c0b1-7d69-4bf...|  579538|0.8473525815046551|              5|2000-05-02 09:10:...|  20| -84957.68667218857|     Annuity|             0|2020-04-27 09:10:...|\n",
      "|12f4a5e3-ea27-4bc...|  354314|1.9522744303117663|             15|2001-05-08 09:10:...|  20|-29526.166666666686|      Linear|             0|2025-05-02 09:10:...|\n",
      "|d57ffd75-6025-4c5...|  546886|  1.95488662334449|             10|2002-05-18 09:10:...|  20|-22165.560814396944|     Annuity|             0|2022-05-13 09:10:...|\n",
      "|dc51dbce-2ab5-40c...|  261652|1.2173754225743014|              5|2001-05-28 09:10:...|  20|-24815.663933269505|     Annuity|             0|2026-05-22 09:10:...|\n",
      "|98af4ead-37d7-4be...|  112103|1.0064552644440452|              5|2000-10-19 09:10:...|  20|-14081.647205900605|     Annuity|             0|2020-10-14 09:10:...|\n",
      "|08693987-94aa-427...|  165867|1.2049831544269096|              5|1999-10-04 09:10:...|  20| -30931.20214488852|     Annuity|             1|2024-09-27 09:10:...|\n",
      "|e7f37ea4-8c25-409...|  732503| 2.188532935079537|             15|1999-04-15 09:10:...|  20| -176702.4256342242|     Annuity|             0|2023-04-09 09:10:...|\n",
      "|17a39a62-85fa-4c2...|  731028|0.6537807237955876|              5|2000-01-19 09:10:...|  20|-109654.19999999995|      Linear|             0|2025-01-12 09:10:...|\n",
      "|25f260e8-a3f6-4e2...|  641202|0.6581445680674968|              5|2000-02-28 09:10:...|  20|         -93508.625|      Linear|             0|2025-02-21 09:10:...|\n",
      "|70b2ea4a-6be1-4ac...|  185114|  2.23668491455338|             15|2001-05-14 09:10:...|  20| -19489.89995320636|     Annuity|             0|2021-05-09 09:10:...|\n",
      "|68cccaa4-44fb-462...|  103967|1.6237335486590956|             10|2000-09-19 09:10:...|  20| -14476.24177858996|     Annuity|             0|2020-09-14 09:10:...|\n",
      "|b6aebe36-f0f6-46d...|  349583| 2.413942524924451|             15|2002-06-20 09:10:...|  20|-12942.703808342922|     Annuity|             0|2022-06-15 09:10:...|\n",
      "|e21b494f-1c73-4a8...|  515829|  2.13167575798595|             15|2001-02-15 09:10:...|  20| -49433.61249999993|      Linear|             0|2025-02-09 09:10:...|\n",
      "|3cd4ffb5-3823-475...|  653431|  2.17932920668473|             15|1998-11-03 09:10:...|  20| -175769.1931904892|     Annuity|             1|2020-10-28 09:10:...|\n",
      "+--------------------+--------+------------------+---------------+--------------------+----+-------------------+------------+--------------+--------------------+\n",
      "only showing top 20 rows\n",
      "\n"
     ]
    }
   ],
   "source": [
    "wtf = df.filter(df['Remaining Notional'] <= 0)\n",
    "wtf.show()"
   ]
  },
  {
   "cell_type": "code",
   "execution_count": 14,
   "id": "ff002bc2-d01e-4046-841e-25ccf56c9c01",
   "metadata": {},
   "outputs": [
    {
     "ename": "AttributeError",
     "evalue": "'SparkSession' object has no attribute 'close'",
     "output_type": "error",
     "traceback": [
      "\u001b[0;31m---------------------------------------------------------------------------\u001b[0m",
      "\u001b[0;31mAttributeError\u001b[0m                            Traceback (most recent call last)",
      "Cell \u001b[0;32mIn[14], line 1\u001b[0m\n\u001b[0;32m----> 1\u001b[0m \u001b[43mspark\u001b[49m\u001b[38;5;241;43m.\u001b[39;49m\u001b[43mclose\u001b[49m()\n",
      "\u001b[0;31mAttributeError\u001b[0m: 'SparkSession' object has no attribute 'close'"
     ]
    }
   ],
   "source": [
    "spark.stop"
   ]
  }
 ],
 "metadata": {
  "kernelspec": {
   "display_name": "Python 3 (ipykernel)",
   "language": "python",
   "name": "python3"
  },
  "language_info": {
   "codemirror_mode": {
    "name": "ipython",
    "version": 3
   },
   "file_extension": ".py",
   "mimetype": "text/x-python",
   "name": "python",
   "nbconvert_exporter": "python",
   "pygments_lexer": "ipython3",
   "version": "3.11.5"
  }
 },
 "nbformat": 4,
 "nbformat_minor": 5
}
