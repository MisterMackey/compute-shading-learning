{
 "cells": [
  {
   "cell_type": "code",
   "execution_count": 1,
   "metadata": {},
   "outputs": [
    {
     "name": "stderr",
     "output_type": "stream",
     "text": [
      "Setting default log level to \"WARN\".\n",
      "To adjust logging level use sc.setLogLevel(newLevel). For SparkR, use setLogLevel(newLevel).\n",
      "23/10/19 19:59:52 WARN NativeCodeLoader: Unable to load native-hadoop library for your platform... using builtin-java classes where applicable\n"
     ]
    }
   ],
   "source": [
    "import matplotlib.pyplot as plt\n",
    "import numpy as np\n",
    "import pandas as pd\n",
    "\n",
    "import matplotlib as mpl\n",
    "import pyarrow.parquet as pq\n",
    "from pyspark.sql import SparkSession\n",
    "spark = SparkSession.Builder().appName(\"Analysis\").master(\"local[12]\").config(\"spark.sql.parquet.int96RebaseModeInRead\", \"CORRECTED\").config(\"spark.sql.parquet.datetimeRebaseModeInRead\", \"CORRECTED\").config(\"spark.driver.memory\", \"20g\").getOrCreate()"
   ]
  },
  {
   "cell_type": "code",
   "execution_count": 2,
   "metadata": {},
   "outputs": [],
   "source": [
    "originals_full = spark.read.parquet(\"../test_data.parquet\")\n",
    "originals = spark.read.parquet(\"../test_data.parquet\").select(\"Id\", \"Payment_Type\", \"Notional\", \"Start_Date\", \"Term\")\n",
    "df = spark.read.parquet(\"../CsharpSolution/outcome.parquet\").join(originals, \"Id\")"
   ]
  },
  {
   "cell_type": "code",
   "execution_count": 3,
   "metadata": {},
   "outputs": [
    {
     "name": "stdout",
     "output_type": "stream",
     "text": [
      "root\n",
      " |-- Id: string (nullable = true)\n",
      " |-- Interest_Rate: float (nullable = true)\n",
      " |-- Reset_Frequency: integer (nullable = true)\n",
      " |-- Remaining_Notional: float (nullable = true)\n",
      " |-- Risk_Indicator: integer (nullable = true)\n",
      " |-- Next_Reset_Date: timestamp (nullable = true)\n",
      " |-- Date_Of_Payment: timestamp (nullable = true)\n",
      " |-- monthly_payment: float (nullable = true)\n",
      " |-- Repayment_Payment: float (nullable = true)\n",
      " |-- Interest_Payment: float (nullable = true)\n",
      " |-- WriteOff: float (nullable = true)\n",
      " |-- Payment_Type: string (nullable = true)\n",
      " |-- Notional: long (nullable = true)\n",
      " |-- Start_Date: timestamp_ntz (nullable = true)\n",
      " |-- Term: long (nullable = true)\n",
      "\n"
     ]
    }
   ],
   "source": [
    "df.printSchema()"
   ]
  },
  {
   "cell_type": "code",
   "execution_count": 4,
   "metadata": {},
   "outputs": [
    {
     "name": "stdout",
     "output_type": "stream",
     "text": [
      "root\n",
      " |-- Date_Of_Payment: timestamp (nullable = true)\n",
      " |-- sum(Interest_Rate): double (nullable = true)\n",
      " |-- sum(Reset_Frequency): long (nullable = true)\n",
      " |-- sum(Remaining_Notional): double (nullable = true)\n",
      " |-- sum(Risk_Indicator): long (nullable = true)\n",
      " |-- sum(monthly_payment): double (nullable = true)\n",
      " |-- sum(Repayment_Payment): double (nullable = true)\n",
      " |-- sum(Interest_Payment): double (nullable = true)\n",
      " |-- sum(WriteOff): double (nullable = true)\n",
      " |-- sum(Notional): long (nullable = true)\n",
      " |-- sum(Term): long (nullable = true)\n",
      "\n"
     ]
    }
   ],
   "source": [
    "series = df.groupby(['Date_Of_Payment']).sum().sort('Date_Of_Payment')\n",
    "series.printSchema()"
   ]
  },
  {
   "cell_type": "code",
   "execution_count": 5,
   "metadata": {},
   "outputs": [
    {
     "name": "stderr",
     "output_type": "stream",
     "text": [
      "                                                                                \r"
     ]
    },
    {
     "name": "stdout",
     "output_type": "stream",
     "text": [
      "+-------------------+------------------+--------------------+-----------------------+-------------------+--------------------+----------------------+---------------------+--------------------+-------------+---------+\n",
      "|    Date_Of_Payment|sum(Interest_Rate)|sum(Reset_Frequency)|sum(Remaining_Notional)|sum(Risk_Indicator)|sum(monthly_payment)|sum(Repayment_Payment)|sum(Interest_Payment)|       sum(WriteOff)|sum(Notional)|sum(Term)|\n",
      "+-------------------+------------------+--------------------+-----------------------+-------------------+--------------------+----------------------+---------------------+--------------------+-------------+---------+\n",
      "|2023-01-01 01:00:00|241730.84574365616|             1746673|   3.153892711805591E10|              35693| 1.187947622880249E8|  1.0099815394258118E8|  6.330972953165889E7| 6.905667547070312E7|  44708491488|  2483865|\n",
      "|2023-02-01 01:00:00|220468.98126131296|             1596886|   2.879865617931421E10|              30769| 1.087304440763855E8|   9.259834868901062E7|   5.77571160433507E7|3.8441424048828125E7|  40885522025|  2268835|\n",
      "|2023-03-01 01:00:00|201021.07913392782|             1458585|   2.623261929721289E10|              26743| 9.910938199627686E7|   8.450139221063232E7|  5.254874995713687E7| 3.523200273339844E7|  37319989858|  2071635|\n",
      "|2023-04-01 02:00:00|180183.66267877817|             1309370|   2.351181955007153...|              22986| 8.881607207998657E7|   7.581799657199097E7|  4.706904876020622E7|2.5802288774414062E7|  33480133422|  1858375|\n",
      "|2023-05-01 02:00:00| 160219.1545906663|             1165059|   2.084569094863842...|              19590|  7.90348775489502E7|   6.758462353630066E7|  4.173788202456999E7|    1.318651646875E7|  29776650790|  1652115|\n",
      "|2023-06-01 02:00:00| 139372.6537926793|             1015475|    1.81053091172312E10|              16290|  6.89303608302002E7|   5.895789016427612E7|  3.622783487956071E7|   1.4549681203125E7|  25949351745|  1439545|\n",
      "|2023-07-01 02:00:00|119632.93505334854|              871780|    1.55122444496875E10|              13540| 5.904237404571533E7|   5.052427272503662E7| 3.1058798278661728E7|      9445304.140625|  22255171498|  1235535|\n",
      "|2023-08-01 02:00:00| 99184.33867627382|              722872|   1.277825417474609...|              10742| 4.892883716622925E7|   4.192582642027283E7|  2.557566495789337E7|    8388199.14453125|  18416268007|  1023585|\n",
      "|2023-09-01 02:00:00| 78735.15130841732|              575185|   1.008406041201342...|               8147| 3.872542182400513E7|  3.3215206652938843E7|  2.019920684094286E7|      6958676.265625|  14596459270|   813110|\n",
      "|2023-10-01 02:00:00|58856.710653841496|              430884|     7.51302371117627E9|               5808|2.8901842383148193E7|  2.4810052165298462E7| 1.5051319514222622E7|      5231451.390625|  10913978542|   607955|\n",
      "|2023-11-01 01:00:00| 38796.95112556219|              284944|     4.92174136357666E9|               3642|1.8979749663909912E7|  1.6339774639572144E7|    9878277.766974926|     570633.83984375|   7185434965|   400780|\n",
      "|2023-12-01 01:00:00|19604.653659403324|              144575|   2.4836249047438965E9|               1765|   9559399.391906738|     8205384.498016357|    4994338.172924995|       565624.234375|   3618723920|   202585|\n",
      "|2024-01-01 01:00:00| 18718.44091308117|              138115|    2.413437511838379E9|               1647|   9082210.930603027|     7747341.240234375|    4859575.261668205|           2544444.5|   3448092017|   193280|\n",
      "|2024-02-01 01:00:00|18697.340619444847|              138041|     2.40339303359375E9|               1572|   9073346.378356934|    7752749.3408203125|    4836230.436888695|      2291729.046875|   3445136859|   193155|\n",
      "|2024-03-01 01:00:00| 18668.84946703911|              137936|   2.3949651783945312E9|               1506|   9070348.247619629|     7755750.968460083|   4817982.0671777725|   672104.7021484375|   3442439210|   192980|\n",
      "|2024-04-01 02:00:00|18649.977017879486|              137871|    2.386215323598633E9|               1447|   9064666.698303223|     7762766.048477173|    4799039.483953476|       987088.828125|   3440962073|   192865|\n",
      "|2024-05-01 02:00:00|18640.933495998383|              137842|     2.37840019692334E9|               1402|   9063194.729797363|     7768046.611404419|    4783339.953378677|      47080.52734375|   3439958808|   192815|\n",
      "|2024-06-01 02:00:00|18634.584869384766|              137822|   2.3703950301953125E9|               1365|    9060583.63116455|     7774996.229721069|   4767450.4121341705|       230170.453125|   3439604371|   192795|\n",
      "|2024-07-01 02:00:00| 18632.31923365593|              137815|     2.36197975429834E9|               1315|   9059886.145080566|     7782660.334503174|    4749754.411982536|            632616.0|   3439353276|   192765|\n",
      "|2024-08-01 02:00:00|18628.098014593124|              137795|   2.3535303859057617E9|               1281|   9059886.145080566|     7787729.445953369|    4731645.323759556|        661639.84375|   3438720660|   192740|\n",
      "+-------------------+------------------+--------------------+-----------------------+-------------------+--------------------+----------------------+---------------------+--------------------+-------------+---------+\n",
      "only showing top 20 rows\n",
      "\n"
     ]
    }
   ],
   "source": [
    "series.show()"
   ]
  },
  {
   "cell_type": "code",
   "execution_count": 6,
   "metadata": {},
   "outputs": [
    {
     "data": {
      "image/png": "[encoded data removed]",
      "text/plain": [
       "<Figure size 640x480 with 1 Axes>"
      ]
     },
     "metadata": {},
     "output_type": "display_data"
    }
   ],
   "source": [
    "#the code below plots the payment amounts over the date of payment axis\n",
    "plt.plot(series.select('Date_Of_Payment').collect(), series.select('sum(Repayment_Payment)').collect(), color='blue')\n",
    "plt.plot(series.select('Date_Of_Payment').collect(), series.select('sum(Interest_Payment)').collect(), color='green')\n",
    "plt.plot(series.select('Date_Of_Payment').collect(), series.select('sum(WriteOff)').collect(), color='red')\n",
    "plt.show()"
   ]
  },
  {
   "cell_type": "code",
   "execution_count": 12,
   "metadata": {},
   "outputs": [
    {
     "name": "stdout",
     "output_type": "stream",
     "text": [
      "+-------------------+------------------+--------------------+-----------------------+-------------------+--------------------+----------------------+---------------------+--------------------+-------------+---------+\n",
      "|    Date_Of_Payment|sum(Interest_Rate)|sum(Reset_Frequency)|sum(Remaining_Notional)|sum(Risk_Indicator)|sum(monthly_payment)|sum(Repayment_Payment)|sum(Interest_Payment)|       sum(WriteOff)|sum(Notional)|sum(Term)|\n",
      "+-------------------+------------------+--------------------+-----------------------+-------------------+--------------------+----------------------+---------------------+--------------------+-------------+---------+\n",
      "|2023-01-01 01:00:00| 9612.662591457367|               30217|   4.8030883806933594E8|               7076|   2503525.649810791|    1571340.8579406738|   2231312.2025375366| 6.905667547070312E7|    766230680|    43230|\n",
      "|2023-02-01 01:00:00| 6795.852157831192|               21783|   3.5047902562597656E8|               5122|   1796568.484588623|    1135036.1114501953|   1590167.3786315918|3.8441424048828125E7|    546725658|    31485|\n",
      "|2023-03-01 01:00:00| 5105.785803556442|               16816|   2.7211656919433594E8|               3940|  1384492.2083129883|     864068.2185058594|    1205414.377954483| 3.523200273339844E7|    429861598|    24105|\n",
      "|2023-04-01 02:00:00| 3837.248351573944|               13201|    2.102775506171875E8|               3065|   1063185.090423584|     671605.0064697266|    893203.9026985168|2.5802288774414062E7|    331497988|    18690|\n",
      "|2023-05-01 02:00:00|3058.0891468524933|               10485|    1.743356498828125E8|               2418|   824086.0098876953|     546135.4826049805|    714853.8824501038|    1.318651646875E7|    262145004|    14890|\n",
      "|2023-06-01 02:00:00|2224.9991693496704|                7884|   1.2611482074609375E8|               1843|   648686.3540039062|    409174.63708496094|   516369.61187553406|   1.4549681203125E7|    197561564|    11245|\n",
      "|2023-07-01 02:00:00|1780.9838845729828|                6461|   1.0722310625390625E8|               1497|   527926.6842346191|     346627.7622375488|   427280.25824165344|      9445304.140625|    164456482|     9150|\n",
      "|2023-08-01 02:00:00| 1437.493671655655|                4850|    8.398758073339844E7|               1152|   419222.1151123047|     277473.6753234863|   329763.66706848145|    8388199.14453125|    131247019|     7020|\n",
      "|2023-09-01 02:00:00| 976.0921611785889|                3583|      6.1184001546875E7|                845|  307465.02810668945|    196550.06350708008|   236961.10793304443|      6958676.265625|     97236344|     5135|\n",
      "|2023-10-01 02:00:00| 653.1874823570251|                2424|   4.1842763396484375E7|                581|  175584.05923461914|    124740.30294799805|    160510.3223953247|      5231451.390625|     66601033|     3480|\n",
      "|2023-11-01 01:00:00| 344.0568376779556|                1327|   2.3075097122558594E7|                300|   74512.36868286133|     56288.93893432617|    89534.13216972351|     570633.83984375|     33017775|     1855|\n",
      "+-------------------+------------------+--------------------+-----------------------+-------------------+--------------------+----------------------+---------------------+--------------------+-------------+---------+\n",
      "\n"
     ]
    },
    {
     "name": "stderr",
     "output_type": "stream",
     "text": [
      "                                                                                \r"
     ]
    }
   ],
   "source": [
    "from pyspark.sql.functions import col\n",
    "wtf = df.filter(col('Risk_Indicator') > 3).filter(col('Date_Of_Payment') < '2023-12-01').groupby(['Date_Of_Payment']).sum().sort('Date_Of_Payment').show()"
   ]
  },
  {
   "cell_type": "code",
   "execution_count": 32,
   "metadata": {},
   "outputs": [
    {
     "name": "stdout",
     "output_type": "stream",
     "text": [
      "+--------------+-----+\n",
      "|Risk_Indicator|count|\n",
      "+--------------+-----+\n",
      "|             0|79868|\n",
      "|             1|10099|\n",
      "|             2| 5004|\n",
      "|             3| 3023|\n",
      "|             4| 2006|\n",
      "+--------------+-----+\n",
      "\n"
     ]
    }
   ],
   "source": [
    "originals_full.groupBy('Risk_Indicator').count().orderBy('Risk_Indicator').show()"
   ]
  },
  {
   "cell_type": "code",
   "execution_count": 41,
   "metadata": {},
   "outputs": [],
   "source": [
    "spark.stop()"
   ]
  },
  {
   "cell_type": "code",
   "execution_count": null,
   "metadata": {},
   "outputs": [],
   "source": []
  }
 ],
 "metadata": {
  "kernelspec": {
   "display_name": ".venv",
   "language": "python",
   "name": "python3"
  },
  "language_info": {
   "codemirror_mode": {
    "name": "ipython",
    "version": 3
   },
   "file_extension": ".py",
   "mimetype": "text/x-python",
   "name": "python",
   "nbconvert_exporter": "python",
   "pygments_lexer": "ipython3",
   "version": "3.11.5"
  },
  "orig_nbformat": 4
 },
 "nbformat": 4,
 "nbformat_minor": 2
}
