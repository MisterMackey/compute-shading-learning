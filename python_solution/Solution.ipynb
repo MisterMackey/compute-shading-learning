{
 "cells": [
  {
   "cell_type": "code",
   "execution_count": 37,
   "id": "a59b4bea-800a-47f9-8821-298ee3404637",
   "metadata": {},
   "outputs": [],
   "source": [
    "from pyspark.sql import SparkSession\n",
    "spark = SparkSession.Builder().appName(\"Analysis\").master(\"local[12]\").getOrCreate()"
   ]
  },
  {
   "cell_type": "code",
   "execution_count": 39,
   "id": "21eccc57-6f88-4b62-b1ea-b82794a47265",
   "metadata": {},
   "outputs": [
    {
     "name": "stdout",
     "output_type": "stream",
     "text": [
      "+--------------------+--------+------------------+-------------+--------------------+----+------------------+------------+--------------+\n",
      "|                  Id|Notional|     Interest Rate|Interest Type|          Start Date|Term|Remaining Notional|Payment Type|Risk Indicator|\n",
      "+--------------------+--------+------------------+-------------+--------------------+----+------------------+------------+--------------+\n",
      "|14bc18bc-cb2d-458...|  285541|2.1354823813795885|        Var20|2019-01-19 15:35:...|  25|          285541.0|      Bullet|             0|\n",
      "|8a597a5a-a5c7-4d6...|  763934| 3.446673585526765|        Fixed|2019-12-23 15:35:...|  20|   677580.34519278|     Annuity|             0|\n",
      "|f4a94578-fa0c-45d...|  451062| 2.796471879064252|        Fixed|2016-05-20 15:35:...|  20|          300708.0|      Linear|             0|\n",
      "|a0800f88-8ad8-412...|  488105|6.2589826253577705|        Var20|2016-09-14 15:35:...|  30|          488105.0|      Bullet|             4|\n",
      "|5c1a3215-ce68-4f8...|  710372|2.7231448806855796|        Fixed|2002-04-11 15:35:...|  20|-34893.37668207241|     Annuity|             0|\n",
      "|a736700c-0856-435...|  591125| 4.062600108962308|         Var5|2018-08-26 15:35:...|  30|          591125.0|      Bullet|             4|\n",
      "|9741254e-4945-4d5...|  604682|2.0224716995543375|        Var20|2004-02-25 15:35:...|  30| 266907.3431795769|     Annuity|             0|\n",
      "|23ee3613-d487-4fe...|  221954|1.5504235036947167|        Var10|2006-11-18 15:35:...|  20| 42541.18333333335|      Linear|             0|\n",
      "|790ee20d-2deb-488...|  445145| 1.219921239489624|         Var5|2013-01-15 15:35:...|  30|          445145.0|      Bullet|             0|\n",
      "|b1a1094a-af2e-46b...|  350635|2.7718041043623054|        Fixed|2010-12-03 15:35:...|  20|          350635.0|      Bullet|             0|\n",
      "|3dfe1a08-2e4e-4ac...|  124693|1.8525669707655024|         Var7|2023-09-19 15:35:...|  30|127463.95555555556|      Linear|             1|\n",
      "|6735d796-1b76-478...|  215158|1.0643261476174746|        Var10|2022-03-06 15:35:...|  30|210061.92345411528|     Annuity|             0|\n",
      "|9cf1c75b-5951-420...|  439725| 2.821782528753217|        Var20|2012-02-04 15:35:...|  30|          439725.0|      Bullet|             0|\n",
      "|99b2665a-bb61-4d1...|  477889|1.9963187760979033|        Var15|2006-09-08 15:35:...|  30|253219.53325976437|     Annuity|             0|\n",
      "|d38d80bd-9476-42b...|  427906|1.5437818408865698|        Var10|2017-01-04 15:35:...|  20|          427906.0|      Bullet|             0|\n",
      "|5b2f32d0-199e-476...|  238422| 3.641097394592564|        Fixed|2020-10-03 15:35:...|  20|219412.70742660362|     Annuity|             1|\n",
      "|680ad42b-e462-4dc...|  301635|1.9903794578203793|         Var5|2016-05-10 15:35:...|  20|          201090.0|      Linear|             2|\n",
      "|ad24c3ce-b496-4dc...|  324033|0.9117980274752128|         Var5|2014-07-09 15:35:...|  30|         232223.65|      Linear|             0|\n",
      "|2952f803-f875-4ac...|  613520|  2.43086902235647|        Var15|2001-04-27 15:35:...|  30|          168718.0|      Linear|             1|\n",
      "|705092ab-fc7d-49a...|  660042|3.0729226356210915|        Fixed|2008-10-12 15:35:...|  30|          660042.0|      Bullet|             0|\n",
      "+--------------------+--------+------------------+-------------+--------------------+----+------------------+------------+--------------+\n",
      "only showing top 20 rows\n",
      "\n"
     ]
    }
   ],
   "source": [
    "df = spark.read.parquet(\"../test_data.parquet\")\n",
    "df.show()"
   ]
  },
  {
   "cell_type": "code",
   "execution_count": 40,
   "id": "2466cf66-0500-4db3-adb1-aee649d50ece",
   "metadata": {},
   "outputs": [],
   "source": [
    "import matplotlib.pyplot as plt\n",
    "import numpy as np\n",
    "import pandas as pd\n",
    "\n",
    "import matplotlib as mpl\n",
    "from pyspark.sql import functions as fn"
   ]
  },
  {
   "cell_type": "code",
   "execution_count": null,
   "id": "7482a02b-74d9-405b-9b78-2fbab0594429",
   "metadata": {},
   "outputs": [],
   "source": []
  }
 ],
 "metadata": {
  "kernelspec": {
   "display_name": "Python 3 (ipykernel)",
   "language": "python",
   "name": "python3"
  },
  "language_info": {
   "codemirror_mode": {
    "name": "ipython",
    "version": 3
   },
   "file_extension": ".py",
   "mimetype": "text/x-python",
   "name": "python",
   "nbconvert_exporter": "python",
   "pygments_lexer": "ipython3",
   "version": "3.11.5"
  }
 },
 "nbformat": 4,
 "nbformat_minor": 5
}
