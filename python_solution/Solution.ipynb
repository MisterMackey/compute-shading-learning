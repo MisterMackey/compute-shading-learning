{
 "cells": [
  {
   "cell_type": "code",
   "execution_count": null,
   "id": "a59b4bea-800a-47f9-8821-298ee3404637",
   "metadata": {},
   "outputs": [],
   "source": [
    "from pyspark.sql import SparkSession\n",
    "spark = SparkSession.Builder().appName(\"Analysis\").master(\"local[12]\").getOrCreate()"
   ]
  },
  {
   "cell_type": "code",
   "execution_count": null,
   "id": "21eccc57-6f88-4b62-b1ea-b82794a47265",
   "metadata": {},
   "outputs": [],
   "source": [
    "df = spark.read.parquet(\"../test_data.parquet\")\n",
    "#df.collect()[0]"
   ]
  },
  {
   "cell_type": "code",
   "execution_count": null,
   "id": "2466cf66-0500-4db3-adb1-aee649d50ece",
   "metadata": {},
   "outputs": [],
   "source": [
    "import matplotlib.pyplot as plt\n",
    "import numpy as np\n",
    "import pandas as pd\n",
    "\n",
    "import matplotlib as mpl\n",
    "from pyspark.sql import functions as fn\n",
    "from pyspark.sql import Row\n",
    "from pyspark.sql.functions import col, lit\n",
    "from datetime import datetime, timedelta\n",
    "ASSUMED_DATE_TODAY=datetime(year=2023,month=1,day=1)"
   ]
  },
  {
   "cell_type": "code",
   "execution_count": null,
   "id": "7482a02b-74d9-405b-9b78-2fbab0594429",
   "metadata": {},
   "outputs": [],
   "source": [
    "annuities = df.filter(df['Payment_Type'] == \"Annuity\")\n",
    "linears = df.filter(df['Payment_Type'] == \"Linear\")\n",
    "bullets = df.filter(df['Payment_Type'] == \"Bullet\")"
   ]
  },
  {
   "cell_type": "code",
   "execution_count": null,
   "id": "fb633e27-0542-424e-b897-e7d886194564",
   "metadata": {},
   "outputs": [],
   "source": [
    "linearpayments = linears.rdd.map(\n",
    "    lambda x: (x['Id'], x['Notional'] / x['Term']))\n",
    "\n",
    "linearpayments = linearpayments.toDF([\"f_Id\", \"monthly_payment\"]) \n",
    "#linearpayments.show()"
   ]
  },
  {
   "cell_type": "code",
   "execution_count": null,
   "id": "0dd5a4d4-c533-4d4c-a871-1b37e0246415",
   "metadata": {},
   "outputs": [],
   "source": [
    "bulletpayments = bullets.rdd.map(\n",
    "    lambda x: (x[\"Id\"], 0.0)\n",
    ").toDF([\"f_Id\", \"monthly_payment\"])"
   ]
  },
  {
   "cell_type": "code",
   "execution_count": null,
   "id": "a2e421c9-b243-4932-889f-954f2c949c72",
   "metadata": {},
   "outputs": [],
   "source": [
    "def calc_annuity_payment(notional, interest, term):\n",
    "    monthsTotal = term * 12\n",
    "    r = interest / 12 / 100\n",
    "    payAmount = (notional*r*(pow(1+r, monthsTotal))) / (pow(1+r, monthsTotal) -1)\n",
    "    return payAmount\n",
    "\n",
    "annuitypayments = annuities.rdd.map(\n",
    "    lambda x: (x[\"Id\"], calc_annuity_payment(x[\"Notional\"], x[\"Interest_Rate\"], x[\"Term\"]) )\n",
    ").toDF([\"f_Id\", \"monthly_payment\"])"
   ]
  },
  {
   "cell_type": "code",
   "execution_count": null,
   "id": "a346075c-5a0d-4d4e-93b3-d56064aee366",
   "metadata": {},
   "outputs": [],
   "source": [
    "#annuities.show()"
   ]
  },
  {
   "cell_type": "code",
   "execution_count": null,
   "id": "a52b9a2e-273b-47cf-9fc3-56467e516c73",
   "metadata": {},
   "outputs": [],
   "source": [
    "annuities = annuities.join(annuitypayments, annuities['Id'] == annuitypayments['f_Id'], \"inner\")\n",
    "linears = linears.join(linearpayments, linears['Id'] == linearpayments['f_Id'], \"inner\")\n",
    "bullets = bullets.join(bulletpayments, bullets['Id'] == bulletpayments['f_Id'], \"inner\")\n",
    "df_full = annuities.union(linears).union(bullets)"
   ]
  },
  {
   "cell_type": "code",
   "execution_count": null,
   "id": "0a93b1fd-1c9a-4d57-a798-bae638bae197",
   "metadata": {},
   "outputs": [],
   "source": [
    "from pyspark.sql.types import StructType,StructField, StringType, DecimalType, IntegerType, DateType, FloatType\n",
    "df_full = df_full.withColumn(\"end_date\", fn.add_months(col(\"Start_Date\"), col(\"Term\")*12).cast(DateType()))"
   ]
  },
  {
   "cell_type": "code",
   "execution_count": null,
   "id": "54aac77b",
   "metadata": {},
   "outputs": [],
   "source": [
    "#create schema for the results table\n",
    "from pyspark.sql.types import StructType,StructField, StringType, DecimalType, IntegerType, DateType, FloatType\n",
    "schema = StructType([\n",
    "  StructField('Id', StringType(), False),\n",
    "  StructField('Interest_Rate', FloatType(), False),\n",
    "  StructField('Reset_Frequency', IntegerType(), False),\n",
    "    StructField('Remaining_Notional', FloatType(), False),\n",
    "    StructField('Risk_Indicator', IntegerType(), False),\n",
    "    StructField('Next_Reset_Date', DateType(), False),\n",
    "    StructField('Date_Of_Payment', DateType(), False),\n",
    "    StructField('monthly_payment', FloatType(), False),\n",
    "    StructField('Repayment_Payment', FloatType(), False),\n",
    "    StructField('Interest_Payment', FloatType(), False),\n",
    "    StructField('Writeoff', FloatType(), False),\n",
    "  ])"
   ]
  },
  {
   "cell_type": "code",
   "execution_count": null,
   "id": "73022b2e-9a56-41db-ae9d-696ab185f327",
   "metadata": {},
   "outputs": [],
   "source": [
    "payment_projection = spark.createDataFrame([], schema)\n",
    "payment_projection.printSchema()"
   ]
  },
  {
   "cell_type": "code",
   "execution_count": null,
   "id": "910b87ce-b7a0-4b46-8ce2-de66d1cd7fe2",
   "metadata": {},
   "outputs": [],
   "source": []
  },
  {
   "cell_type": "code",
   "execution_count": null,
   "id": "18f099c5-898d-4c62-b020-9af0d9d81a34",
   "metadata": {},
   "outputs": [],
   "source": [
    "import random\n",
    "\n",
    "riskMigration = {\n",
    "\t0: (0.0, 1 - 0.001),\n",
    "\t1: (0.1, 1 - 0.01),\n",
    "\t2: (0.05, 1 - 0.01),\n",
    "\t3: (0.05, 1 - 0.05),\n",
    "\t4: (0.2, 1 - 0.1),\n",
    "}\n",
    "additionalInterestRatePerDuration = {\n",
    "\t30: 2.2,\n",
    "\t25: 1.9,\n",
    "\t20: 1.5,\n",
    "\t15: 1.0,\n",
    "\t10: 0.5,\n",
    "\t9: 0.4,\n",
    "\t7: 0.1,\n",
    "\t5: 0.0,\n",
    "\n",
    "}\n",
    "additionalInterestRatePerRiskCategory = {\n",
    "\t0: 0.0,\n",
    "\t1: 0.3 ,\n",
    "\t2: 1.1 ,\n",
    "\t3: 1.9 ,\n",
    "\t4: 3.5 ,\n",
    "\t5: 9.9 ,\n",
    "}\n",
    "\n",
    "def migrate_risk_category(old_category: int):\n",
    "\tdraw = random.random()\n",
    "\tprobabilities = riskMigration[old_category]\n",
    "\tif draw < probabilities[0]:\n",
    "\t\treturn old_category - 1\n",
    "\telif draw > probabilities[1]:\n",
    "\t\treturn old_category + 1\n",
    "\telse:\n",
    "\t\treturn old_category\n",
    "\n",
    "def calc_one_step(original_row: Row, curr_date: datetime, T_Minus_one: Row):\n",
    "\t#fill in t minus one if we are in period 0\n",
    "\tif T_Minus_one is None:\n",
    "\t\tT_Minus_one = original_row\n",
    "\t#migrate the risk\n",
    "\tnewRisk = migrate_risk_category(T_Minus_one['Risk_Indicator'])\n",
    "\t#check if we need to rest the interest rate, using month etc so we dont accidentily miss one if the day differs\n",
    "\tresetFrequency = T_Minus_one['Reset_Frequency']\n",
    "\tinterestRate = T_Minus_one['Interest_Rate']\n",
    "\tresetDate = T_Minus_one['Next_Reset_Date']\n",
    "\tmonthlyPayment = T_Minus_one['monthly_payment']\n",
    "\tremainingNotional = T_Minus_one['Remaining_Notional']\n",
    "\tif curr_date.month == T_Minus_one['Next_Reset_Date'].month and curr_date.day == T_Minus_one['Next_Reset_Date'].day:\n",
    "\t\timpliedBaseRate = original_row[\"Interest_Rate\"] - additionalInterestRatePerDuration[original_row['Term']] - additionalInterestRatePerRiskCategory[original_row['Risk_Indicator']]\n",
    "\t\tyearsLeft = original_row['end_date'].year - original_row['Start_Date'].year\n",
    "\t\treset_options = [30, 25, 20, 15, 10, 9, 7, 5]\n",
    "\t\tresetFrequency = min([x for x in reset_options if x >= yearsLeft])\n",
    "\t\tresetDate = datetime(year=resetDate.year + yearsLeft, month= resetDate.month, day= resetDate.day)\n",
    "\t\t#new reset frequency is implied to be the new duration\n",
    "\t\tinterestRate = impliedBaseRate + additionalInterestRatePerDuration[resetFrequency] + additionalInterestRatePerRiskCategory[newRisk]\n",
    "\t\tif original_row['Payment_Type'] == 'Annuity':\n",
    "\t\t#re-calculate the annuity payments\n",
    "\t\t\tmonthsTotal = resetFrequency * 12\n",
    "\t\t\tr = interestRate / 12 / 100\n",
    "\t\t\tmonthlyPayment = (remainingNotional*r*(pow(1+r, monthsTotal))) / (pow(1+r, monthsTotal) -1)\n",
    "\n",
    "\tif newRisk == 5:\n",
    "\t\tinterest = 0.0\n",
    "\t\trepayment = 0.0\n",
    "\t\twriteOff = T_Minus_one['Remaining_Notional']\n",
    "\telif original_row['Payment_Type'] == 'Bullet':\n",
    "\t\tinterest = (interestRate / 100 / 12) * T_Minus_one['Remaining_Notional']\n",
    "\t\tif curr_date.month == original_row['end_date'].month and curr_date.year == original_row['end_date'].year:\n",
    "\t\t\trepayment = T_Minus_one['Remaining_Notional']\n",
    "\t\telse:\n",
    "\t\t\trepayment = 0.0\n",
    "\t\twriteOff = 0.0\n",
    "\telif original_row['Payment_Type'] == 'Linear':\n",
    "\t\tinterest = (interestRate / 100 / 12) * T_Minus_one['Remaining_Notional']\n",
    "\t\trepayment = min(original_row['monthly_payment'], T_Minus_one['Remaining_Notional'])\n",
    "\t\twriteOff = 0.0\n",
    "\telif original_row['Payment_Type'] == 'Annuity':\n",
    "\t\tinterest = (interestRate / 100 / 12) * T_Minus_one['Remaining_Notional']\n",
    "\t\trepayment = min(original_row['monthly_payment'] - interest, T_Minus_one['Remaining_Notional'])\n",
    "\t\twriteOff = 0.0\n",
    "\tremainingNotional = T_Minus_one['Remaining_Notional'] - repayment - writeOff\n",
    "\tnewrow = Row(\n",
    "        \tId=original_row['Id'],\n",
    "        \tInterest_Rate=interestRate,\n",
    "\t\tReset_Frequency=resetFrequency,\n",
    "\t\tRemaining_Notional=remainingNotional,\n",
    "\t\tRisk_Indicator=newRisk,\n",
    "\t\tNext_Reset_Date=resetDate,\n",
    "\t\tDate_Of_Payment=curr_date,\n",
    "\t\tmonthly_payment=monthlyPayment,\n",
    "\t\tRepayment_Payment=repayment,\n",
    "\t\tInterest_Payment=interest,\n",
    "\t\tWriteoff=writeOff\n",
    "\t)\n",
    "\treturn newrow\n",
    "\n",
    "\n",
    "def calc_all_periods_for_row(row: Row):\n",
    "\tendDate = row[\"end_date\"]\n",
    "\tendDate = datetime(endDate.year, endDate.month, endDate.day)\n",
    "\tcurr_date = ASSUMED_DATE_TODAY\n",
    "\tlistresults = []\n",
    "\tprevious_period = None\n",
    "\twhile curr_date < endDate:\n",
    "\t\tcurrent_period = calc_one_step(row, curr_date, previous_period)\n",
    "\t\tlistresults.append(current_period)\n",
    "\t\tprevious_period = current_period\n",
    "\t\tcurr_date += timedelta(days=31)\n",
    "\t\tcurr_date -= (timedelta(days=curr_date.day-1))\n",
    "\t\tif current_period['Risk_Indicator'] == 5:\n",
    "\t\t\tbreak\n",
    "        #above two lines should get the beginning of the month\n",
    "\treturn listresults\n",
    "        "
   ]
  },
  {
   "cell_type": "code",
   "execution_count": null,
   "id": "a76402c6-731f-4403-bb1a-2d236c51a70c",
   "metadata": {},
   "outputs": [],
   "source": [
    "#wtf is this copilot magic fuckery\n",
    "copilot = df_full.rdd.map(calc_all_periods_for_row).flatMap(lambda x: x).toDF(schema)"
   ]
  },
  {
   "cell_type": "code",
   "execution_count": null,
   "id": "eb4b8de8-0900-43fe-9863-02fac0a39393",
   "metadata": {},
   "outputs": [],
   "source": [
    "copilot.count()"
   ]
  },
  {
   "cell_type": "code",
   "execution_count": null,
   "id": "268be964",
   "metadata": {},
   "outputs": [],
   "source": [
    "copilot.show()"
   ]
  },
  {
   "cell_type": "code",
   "execution_count": null,
   "id": "ed02a26b",
   "metadata": {},
   "outputs": [],
   "source": [
    "copilot.write.parquet('./outcome.parquet', compression='snappy', mode='overwrite')"
   ]
  },
  {
   "cell_type": "code",
   "execution_count": null,
   "id": "ddce808b-46b2-4031-bd63-caaf76446e78",
   "metadata": {},
   "outputs": [],
   "source": [
    "spark.stop()"
   ]
  },
  {
   "cell_type": "code",
   "execution_count": null,
   "id": "55696f11",
   "metadata": {},
   "outputs": [],
   "source": []
  }
 ],
 "metadata": {
  "kernelspec": {
   "display_name": "Python 3 (ipykernel)",
   "language": "python",
   "name": "python3"
  },
  "language_info": {
   "codemirror_mode": {
    "name": "ipython",
    "version": 3
   },
   "file_extension": ".py",
   "mimetype": "text/x-python",
   "name": "python",
   "nbconvert_exporter": "python",
   "pygments_lexer": "ipython3",
   "version": "3.11.5"
  }
 },
 "nbformat": 4,
 "nbformat_minor": 5
}
