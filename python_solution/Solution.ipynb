{
 "cells": [
  {
   "cell_type": "code",
   "execution_count": 1,
   "id": "a59b4bea-800a-47f9-8821-298ee3404637",
   "metadata": {},
   "outputs": [
    {
     "name": "stderr",
     "output_type": "stream",
     "text": [
      "Setting default log level to \"WARN\".\n",
      "To adjust logging level use sc.setLogLevel(newLevel). For SparkR, use setLogLevel(newLevel).\n",
      "23/10/09 09:47:15 WARN NativeCodeLoader: Unable to load native-hadoop library for your platform... using builtin-java classes where applicable\n",
      "23/10/09 09:47:15 WARN Utils: Service 'SparkUI' could not bind on port 4040. Attempting port 4041.\n",
      "23/10/09 09:47:15 WARN Utils: Service 'SparkUI' could not bind on port 4041. Attempting port 4042.\n",
      "23/10/09 09:47:15 WARN Utils: Service 'SparkUI' could not bind on port 4042. Attempting port 4043.\n"
     ]
    }
   ],
   "source": [
    "from pyspark.sql import SparkSession\n",
    "spark = SparkSession.Builder().appName(\"Analysis\").master(\"local[12]\").getOrCreate()"
   ]
  },
  {
   "cell_type": "code",
   "execution_count": 2,
   "id": "21eccc57-6f88-4b62-b1ea-b82794a47265",
   "metadata": {},
   "outputs": [],
   "source": [
    "df = spark.read.parquet(\"../test_data.parquet\")\n",
    "#df.show()"
   ]
  },
  {
   "cell_type": "code",
   "execution_count": 3,
   "id": "2466cf66-0500-4db3-adb1-aee649d50ece",
   "metadata": {},
   "outputs": [],
   "source": [
    "import matplotlib.pyplot as plt\n",
    "import numpy as np\n",
    "import pandas as pd\n",
    "\n",
    "import matplotlib as mpl\n",
    "from pyspark.sql import functions as fn"
   ]
  },
  {
   "cell_type": "code",
   "execution_count": 4,
   "id": "7482a02b-74d9-405b-9b78-2fbab0594429",
   "metadata": {},
   "outputs": [],
   "source": [
    "annuities = df.filter(df['Payment Type'] == \"Annuity\")\n",
    "linears = df.filter(df['Payment Type'] == \"Linear\")\n",
    "bullets = df.filter(df['Payment Type'] == \"Bullet\")"
   ]
  },
  {
   "cell_type": "code",
   "execution_count": 5,
   "id": "fb633e27-0542-424e-b897-e7d886194564",
   "metadata": {},
   "outputs": [],
   "source": [
    "linearpayments = linears.rdd.map(\n",
    "    lambda x: (x['Id'], x['Notional'] / x['Term']))\n",
    "\n",
    "linearpayments = linearpayments.toDF([\"f_Id\", \"monthly_repayments\"]) \n",
    "#linearpayments.show()"
   ]
  },
  {
   "cell_type": "code",
   "execution_count": 6,
   "id": "0dd5a4d4-c533-4d4c-a871-1b37e0246415",
   "metadata": {},
   "outputs": [],
   "source": [
    "bulletpayments = bullets.rdd.map(\n",
    "    lambda x: (x[\"Id\"], 0.0)\n",
    ").toDF([\"f_Id\", \"monthly_payments\"])"
   ]
  },
  {
   "cell_type": "code",
   "execution_count": 7,
   "id": "a2e421c9-b243-4932-889f-954f2c949c72",
   "metadata": {},
   "outputs": [],
   "source": [
    "def calc_annuity_payment(notional, interest, term):\n",
    "    monthsTotal = term * 12\n",
    "    r = interest / 12 / 100\n",
    "    payAmount = (notional*r*(pow(1+r, monthsTotal))) / (pow(1+r, monthsTotal) -1)\n",
    "    return payAmount\n",
    "\n",
    "annuitypayments = annuities.rdd.map(\n",
    "    lambda x: (x[\"Id\"], calc_annuity_payment(x[\"Notional\"], x[\"Interest Rate\"], x[\"Term\"]) )\n",
    ").toDF([\"f_Id\", \"monthly_payments\"])"
   ]
  },
  {
   "cell_type": "code",
   "execution_count": 8,
   "id": "a346075c-5a0d-4d4e-93b3-d56064aee366",
   "metadata": {},
   "outputs": [],
   "source": [
    "#annuities.show()"
   ]
  },
  {
   "cell_type": "code",
   "execution_count": 9,
   "id": "a52b9a2e-273b-47cf-9fc3-56467e516c73",
   "metadata": {},
   "outputs": [],
   "source": [
    "annuities = annuities.join(annuitypayments, annuities['Id'] == annuitypayments['f_Id'], \"inner\")\n",
    "linears = linears.join(linearpayments, linears['Id'] == linearpayments['f_Id'], \"inner\")\n",
    "bullets = bullets.join(bulletpayments, bullets['Id'] == bulletpayments['f_Id'], \"inner\")\n",
    "df_full = annuities.union(linears).union(bullets)"
   ]
  },
  {
   "cell_type": "code",
   "execution_count": 10,
   "id": "0a93b1fd-1c9a-4d57-a798-bae638bae197",
   "metadata": {},
   "outputs": [
    {
     "name": "stdout",
     "output_type": "stream",
     "text": [
      "root\n",
      " |-- Id: string (nullable = true)\n",
      " |-- Notional: long (nullable = true)\n",
      " |-- Interest Rate: double (nullable = true)\n",
      " |-- Reset Frequency: long (nullable = true)\n",
      " |-- Start Date: timestamp_ntz (nullable = true)\n",
      " |-- Term: long (nullable = true)\n",
      " |-- Remaining Notional: double (nullable = true)\n",
      " |-- Payment Type: string (nullable = true)\n",
      " |-- Risk Indicator: long (nullable = true)\n",
      " |-- Next Reset Date: timestamp_ntz (nullable = true)\n",
      " |-- f_Id: string (nullable = true)\n",
      " |-- monthly_payments: double (nullable = true)\n",
      "\n"
     ]
    }
   ],
   "source": [
    "df_full.printSchema()"
   ]
  },
  {
   "cell_type": "code",
   "execution_count": 11,
   "id": "54aac77b",
   "metadata": {},
   "outputs": [],
   "source": [
    "#create schema for the results table\n",
    "from pyspark.sql.types import StructType,StructField, StringType, DecimalType, IntegerType, DateType\n",
    "schema = StructType([\n",
    "  StructField('Id', StringType(), False),\n",
    "  StructField('Interest Rate', DecimalType(), False),\n",
    "  StructField('Reset Frequency', IntegerType(), False),\n",
    "    StructField('Remaining Notional', DecimalType(), False),\n",
    "    StructField('Risk Indicator', IntegerType(), False),\n",
    "    StructField('Next Reset Date', DateType(), False),\n",
    "    StructField('monthly_payment', DecimalType(), False)\n",
    "  ])"
   ]
  },
  {
   "cell_type": "code",
   "execution_count": 12,
   "id": "73022b2e-9a56-41db-ae9d-696ab185f327",
   "metadata": {},
   "outputs": [
    {
     "name": "stdout",
     "output_type": "stream",
     "text": [
      "root\n",
      " |-- Id: string (nullable = false)\n",
      " |-- Interest Rate: decimal(10,0) (nullable = false)\n",
      " |-- Reset Frequency: integer (nullable = false)\n",
      " |-- Remaining Notional: decimal(10,0) (nullable = false)\n",
      " |-- Risk Indicator: integer (nullable = false)\n",
      " |-- Next Reset Date: date (nullable = false)\n",
      " |-- monthly_payment: decimal(10,0) (nullable = false)\n",
      "\n"
     ]
    }
   ],
   "source": [
    "payment_projection = spark.createDataFrame([], schema)\n",
    "payment_projection.printSchema()"
   ]
  }
 ],
 "metadata": {
  "kernelspec": {
   "display_name": "Python 3 (ipykernel)",
   "language": "python",
   "name": "python3"
  },
  "language_info": {
   "codemirror_mode": {
    "name": "ipython",
    "version": 3
   },
   "file_extension": ".py",
   "mimetype": "text/x-python",
   "name": "python",
   "nbconvert_exporter": "python",
   "pygments_lexer": "ipython3",
   "version": "3.11.5"
  }
 },
 "nbformat": 4,
 "nbformat_minor": 5
}
